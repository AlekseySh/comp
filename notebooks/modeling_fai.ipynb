{
 "cells": [
  {
   "cell_type": "code",
   "execution_count": null,
   "metadata": {},
   "outputs": [],
   "source": [
    "%load_ext autoreload\n",
    "%autoreload 2\n",
    "\n",
    "import sys\n",
    "sys.path.append(\"..\")\n",
    "\n",
    "import pandas as pd\n",
    "import numpy as np \n",
    "from matplotlib import pyplot as plt\n",
    "\n",
    "from sklearn.model_selection import train_test_split\n",
    "from sklearn.metrics import f1_score\n",
    "from fastai.tabular import *\n",
    "from fastai.callbacks.tracker import EarlyStoppingCallback, SaveModelCallback\n",
    "from pathlib import Path\n",
    "import src.utils as u\n",
    "import src.fai_utils as fu\n",
    "from tqdm.auto import tqdm\n",
    "from collections import Counter\n",
    "from sklearn.metrics import f1_score, precision_score, recall_score\n",
    "from torch.nn import CrossEntropyLoss as CEloss\n",
    "\n",
    "pd.set_option('display.max_columns', 999)\n",
    "pd.set_option('display.max_rows', 100)\n",
    "\n",
    "u.random_seed(42)\n",
    "\n",
    "data_path = Path('../data')"
   ]
  },
  {
   "cell_type": "code",
   "execution_count": null,
   "metadata": {},
   "outputs": [],
   "source": [
    "train_full, test, all_cols, cont_cols, cat_cols = u.read_data(data_path)"
   ]
  },
  {
   "cell_type": "code",
   "execution_count": null,
   "metadata": {},
   "outputs": [],
   "source": [
    "for f in cont_cols:\n",
    "    test[f] = test[f].fillna(0)\n",
    "    train_full[f] = train_full[f].fillna(0)"
   ]
  },
  {
   "cell_type": "code",
   "execution_count": null,
   "metadata": {},
   "outputs": [],
   "source": [
    "high_corr_to_drop = ['longitude', 'latitude', 'LANES', 'lane_width', 'P0', 'dist_to_center', 'traffic1',\n",
    "                    'avg_speed_neigh', 'traffic_total_neigh',\n",
    "                    'average_ttime_neigh', 'acc_cnt_last_quarter_sid_neigh',\n",
    "                    'mean_traffic', 'acc_cnt_last_halfyear_sid_neigh',\n",
    "                    # with low feature importance\n",
    "                    \n",
    "                     'cloud_cover',\n",
    "                     'cloud1_cover',\n",
    "                     'acc_cnt_last_halfyear_sid_wd_h_neigh',\n",
    "                     'delta_rel_diff_traffic_last_hour',\n",
    "                     'rel_diff_traffic',\n",
    "                     'acc_cnt_last_halfyear_vds',\n",
    "                     'delta_traffic_total_next_hour',\n",
    "                     'temp',\n",
    "                     'acc_cnt_last_halfyear_vds_wd',\n",
    "                     'orientation',\n",
    "                     'cloud_3',\n",
    "                     'wind_speed',\n",
    "                     'wind_dir_angle',\n",
    "                     'max_gust',\n",
    "                     'weather_cond',\n",
    "                     'blinding',\n",
    "                     'acc_cnt_last_quarter_vds_wd',\n",
    "                     'cloud_height',\n",
    "                     'delta_traffic_total_last_hour',\n",
    "                     'wind_dir',\n",
    "                     'delta_rel_diff_traffic_next_hour',\n",
    "                     'acc_cnt_last_quarter_sid_wd_h_neigh',\n",
    "                     'precip_time',\n",
    "                     'humidity',\n",
    "                     'angle_wind_road',\n",
    "                     'cloud_1',\n",
    "                     'mean_avg_speed',\n",
    "                     'acc_cnt_last_halfyear_vds_wd_h',\n",
    "                     'cloud_2',\n",
    "                     'sinuosity',\n",
    "                     'wind_dir_defined',\n",
    "                     'vds_count',\n",
    "                     'snow',\n",
    "                     'CLASS',\n",
    "                     'mist',\n",
    "                     'vms_count',\n",
    "                     'PAVETYPE',\n",
    "                     'delta_average_ttime_last_day',\n",
    "                     'average_ttime_na',\n",
    "                     'precip_mm',\n",
    "                     'SURFTYPE',\n",
    "                     'smoke',\n",
    "                     'fog',\n",
    "                     'drizzle',\n",
    "                     'cloud_cover_fog',\n",
    "                     'delta_average_ttime_next_day',\n",
    "                     'WIDTH',\n",
    "                     'visibility',\n",
    "                     'rain',\n",
    "                     'main_route']\n",
    "\n",
    "all_cols = list(set(all_cols) - set(high_corr_to_drop))\n",
    "cont_cols = list(set(cont_cols) - set(high_corr_to_drop))\n",
    "cat_cols = list(set(cat_cols) - set(high_corr_to_drop))"
   ]
  },
  {
   "cell_type": "markdown",
   "metadata": {},
   "source": [
    "# Fast ai"
   ]
  },
  {
   "cell_type": "markdown",
   "metadata": {},
   "source": [
    "# 1 FOLD VALID"
   ]
  },
  {
   "cell_type": "code",
   "execution_count": null,
   "metadata": {},
   "outputs": [],
   "source": [
    "val_ids = (train_full.datetime >= pd.Timestamp('2018-10-01')).values"
   ]
  },
  {
   "cell_type": "code",
   "execution_count": null,
   "metadata": {},
   "outputs": [],
   "source": [
    "procs = [FillMissing, Categorify, Normalize]\n",
    "\n",
    "test_tab = TabularList.from_df(df=test, cat_names=cat_cols, cont_names=cont_cols)"
   ]
  },
  {
   "cell_type": "code",
   "execution_count": null,
   "metadata": {},
   "outputs": [],
   "source": [
    "p = {\n",
    "    'bs': 200_000,\n",
    "    'n_epochs': 10,\n",
    "    'layers': [1024, 512, 256, 128],\n",
    "    'weights': [1, 10],\n",
    "    'n_steps_f1': 20,\n",
    "    'emb_drop': 0.5\n",
    "}"
   ]
  },
  {
   "cell_type": "code",
   "execution_count": null,
   "metadata": {},
   "outputs": [],
   "source": [
    "data = (TabularList.from_df(\n",
    "            train_full, procs=procs, cat_names=cat_cols, cont_names=cont_cols)\n",
    "                 .split_by_idx(val_ids)\n",
    "                 .label_from_df(cols='y')\n",
    "                 .add_test(test_tab)\n",
    "                 .databunch(bs=p['bs']))"
   ]
  },
  {
   "cell_type": "code",
   "execution_count": null,
   "metadata": {},
   "outputs": [],
   "source": [
    "learn = tabular_learner(data, layers=p['layers'],\n",
    "                                emb_drop=p['emb_drop'],\n",
    "                                metrics=fu.F1(0, 1, steps=p['n_steps_f1']),\n",
    "                                callback_fns=[ShowGraph,\n",
    "                                              partial(EarlyStoppingCallback,\n",
    "                                                      monitor='f1',\n",
    "                                                      min_delta=0.001,\n",
    "                                                      patience=6)\n",
    "                                              ],\n",
    "                                loss_func=CEloss(\n",
    "                                    weight=tensor(p['weights']).float().cuda()\n",
    "                                ),\n",
    "                                opt_func=torch.optim.Adam\n",
    "                                )"
   ]
  },
  {
   "cell_type": "code",
   "execution_count": null,
   "metadata": {},
   "outputs": [],
   "source": [
    "learn.lr_find()\n",
    "learn.recorder.plot()"
   ]
  },
  {
   "cell_type": "code",
   "execution_count": null,
   "metadata": {
    "scrolled": false
   },
   "outputs": [],
   "source": [
    "learn.fit_one_cycle(p['n_epochs'], max_lr=slice(5e-3),\n",
    "                    callbacks=[\n",
    "                        SaveModelCallback(learn, every='improvement',\n",
    "                                          monitor='f1', name='best_model')]\n",
    "                   )\n",
    "                        \n",
    "learn.recorder.plot_losses()                        \n",
    "learn.recorder.plot_lr()\n",
    "plt.show()"
   ]
  },
  {
   "cell_type": "markdown",
   "metadata": {},
   "source": [
    "# Cross VALID"
   ]
  },
  {
   "cell_type": "code",
   "execution_count": null,
   "metadata": {},
   "outputs": [],
   "source": [
    "probas_val = probas_val[:, 1]"
   ]
  },
  {
   "cell_type": "code",
   "execution_count": null,
   "metadata": {},
   "outputs": [],
   "source": [
    "def get_folds(train):\n",
    "    # months = ['01', '03', '06', '09', '12']\n",
    "    months = ['09', '12']\n",
    "    \n",
    "    folds = []\n",
    "    for i_fold in range(len(months) - 1):\n",
    "        tstart = pd.Timestamp('2018-' + months[i_fold] + '-01')\n",
    "        tend = pd.Timestamp('2018-' + months[i_fold + 1] + '-01')\n",
    "\n",
    "        tt = train.datetime\n",
    "        ids_val = ((tstart <=  tt) & (tt < tend)).to_numpy().nonzero()[0]\n",
    "        folds.append(ids_val)\n",
    "    \n",
    "    return folds\n",
    "        \n",
    "    \n",
    "folds = get_folds(train_full)"
   ]
  },
  {
   "cell_type": "raw",
   "metadata": {
    "scrolled": false
   },
   "source": [
    "probas_arr, ths, val_scores = fu.fit_predict_cv(\n",
    "    train=train_full, test=test, val_ids=folds,\n",
    "    cat_cols=cat_cols, cont_cols=cont_cols, draw_plot=False\n",
    ")"
   ]
  },
  {
   "cell_type": "markdown",
   "metadata": {},
   "source": [
    "# Submit"
   ]
  },
  {
   "cell_type": "code",
   "execution_count": null,
   "metadata": {},
   "outputs": [],
   "source": [
    "probas_val, *_ = learn.get_preds(DatasetType.Valid)\n",
    "probas_test, *_ = learn.get_preds(DatasetType.Test)\n",
    "\n",
    "probas_val = probas_val[:, 1]\n",
    "probas_test = probas_test[:, 1]"
   ]
  },
  {
   "cell_type": "code",
   "execution_count": null,
   "metadata": {},
   "outputs": [],
   "source": [
    "th = u.estimate(learn, val, y_true=val.y)"
   ]
  },
  {
   "cell_type": "code",
   "execution_count": null,
   "metadata": {},
   "outputs": [],
   "source": [
    "pred = np.array(probas_test) > th * .95\n",
    "\n",
    "n_pred = sum(pred)\n",
    "print(n_pred)"
   ]
  },
  {
   "cell_type": "code",
   "execution_count": null,
   "metadata": {},
   "outputs": [],
   "source": [
    "submit = pd.DataFrame(\n",
    "    data={'datetime x segment_id': test['datetime x segment_id'].values,\n",
    "          'prediction': pred.astype(int)}\n",
    ")"
   ]
  },
  {
   "cell_type": "code",
   "execution_count": null,
   "metadata": {},
   "outputs": [],
   "source": [
    "submit.to_csv(f'../results/submit_fai_{n_pred}.csv', index=False)"
   ]
  },
  {
   "cell_type": "code",
   "execution_count": null,
   "metadata": {},
   "outputs": [],
   "source": []
  }
 ],
 "metadata": {
  "kernelspec": {
   "display_name": "Python 3",
   "language": "python",
   "name": "python3"
  },
  "language_info": {
   "codemirror_mode": {
    "name": "ipython",
    "version": 3
   },
   "file_extension": ".py",
   "mimetype": "text/x-python",
   "name": "python",
   "nbconvert_exporter": "python",
   "pygments_lexer": "ipython3",
   "version": "3.7.2"
  }
 },
 "nbformat": 4,
 "nbformat_minor": 2
}
