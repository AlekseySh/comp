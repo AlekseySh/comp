{
 "cells": [
  {
   "cell_type": "code",
   "execution_count": null,
   "metadata": {},
   "outputs": [],
   "source": [
    "# !! pip install fastai"
   ]
  },
  {
   "cell_type": "code",
   "execution_count": null,
   "metadata": {},
   "outputs": [],
   "source": [
    "# ones = u.read_ones(data_path / 'train.csv')\n",
    "# u.add_more_time(ones)\n",
    "# ones = ones.rename(columns={'sid': 'segment_id', 'day': 'weekday'})\n",
    "\n",
    "# vehinj = u.read_vehinj(Path('../data/SANRAL_v2'))\n",
    "\n",
    "# field_combs = [\n",
    "#     tuple([('segment_id')]), tuple(['hour']), tuple(['weekday']), tuple(['month']),\n",
    "#     ('segment_id', 'hour'), ('segment_id', 'weekday'), ('segment_id', 'month'), ('weekday', 'month'), ('hour', 'weekday'),\n",
    "#     ('segment_id', 'weekday', 'hour'), ('segment_id', 'weekday', 'month')\n",
    "# ]\n",
    "\n",
    "\n",
    "# train = u.select_by_time(train_full, '2017-01-01', '2018-10-01')\n",
    "# u.add_statistic(data=train, stat_data=ones,\n",
    "#                 field_combs=field_combs, prefix='hist_',\n",
    "#                 tstart='2016-01-01', tend='2017-01-01',\n",
    "#                )\n",
    "\n",
    "# val = u.select_by_time(train_full, '2018-10-01', '2019-01-01')\n",
    "# u.add_statistic(data=val, stat_data=ones,\n",
    "#                 field_combs=field_combs, prefix='hist_',\n",
    "#                 tstart='2016-01-01', tend='2018-10-01',\n",
    "#                )\n",
    "\n",
    "# u.add_statistic(data=test, stat_data=ones,\n",
    "#                 field_combs=field_combs, prefix='hist_',\n",
    "#                 tstart='2016-01-01', tend='2019-01-01',\n",
    "#                )\n",
    "\n",
    "# x_cols = cols\n",
    "# x_cols.extend([c for c in train.columns if c.startswith('hist_')])\n",
    "\n",
    "# train = u.select_by_time(train_full, '2016-01-01', val_tstart, time_col='datetime')\n",
    "# val = u.select_by_time(train_full, val_tstart, '2019-01-01', time_col='datetime')\n",
    "\n",
    "# def prepare(df):\n",
    "#     df[cat_cols] = df[cat_cols].replace(np.nan, 'NAN').astype('object')\n",
    "#     df[cat_cols] = df[cat_cols].astype('str')\n",
    "    \n",
    "\n",
    "# prepare(train_full)\n",
    "# prepare(test)\n",
    "\n",
    "# val = train_full.loc[ids_val]\n",
    "# val.reset_index(inplace=True)\n",
    "\n",
    "# u.run_many_th_experiment(val, np.array(predictions), th_score=0.12)\n",
    "\n",
    "# train_full = train_full[train_full.datetime < pd.Timestamp('2018-04-01')]  # Only for fast debug\n",
    "# train_full.reset_index(inplace=True)\n"
   ]
  },
  {
   "cell_type": "code",
   "execution_count": null,
   "metadata": {},
   "outputs": [],
   "source": [
    "%load_ext autoreload\n",
    "%autoreload 2\n",
    "\n",
    "import sys\n",
    "sys.path.append(\"..\")\n",
    "\n",
    "import pandas as pd\n",
    "import numpy as np \n",
    "from matplotlib import pyplot as plt\n",
    "\n",
    "from sklearn.model_selection import train_test_split\n",
    "from sklearn.metrics import f1_score\n",
    "from fastai.tabular import *\n",
    "from fastai.callbacks.tracker import EarlyStoppingCallback, SaveModelCallback\n",
    "from pathlib import Path\n",
    "import src.data_utils as u\n",
    "import src.fai_utils as fu\n",
    "from tqdm.auto import tqdm\n",
    "from collections import Counter\n",
    "from sklearn.metrics import f1_score, precision_score, recall_score\n",
    "\n",
    "pd.set_option('display.max_columns', 999)\n",
    "pd.set_option('display.max_rows', 100)\n",
    "\n",
    "u.random_seed(42)\n",
    "\n",
    "data_path = Path('../data')"
   ]
  },
  {
   "cell_type": "code",
   "execution_count": null,
   "metadata": {},
   "outputs": [],
   "source": [
    "train_full, test, all_cols, cont_cols, cat_cols = u.read_data(data_path)"
   ]
  },
  {
   "cell_type": "markdown",
   "metadata": {},
   "source": [
    "# Fast ai"
   ]
  },
  {
   "cell_type": "code",
   "execution_count": null,
   "metadata": {},
   "outputs": [],
   "source": [
    "for f in cont_cols:\n",
    "    test[f] = test[f].fillna(0)\n",
    "    train_full[f] = train_full[f].fillna(0)"
   ]
  },
  {
   "cell_type": "code",
   "execution_count": null,
   "metadata": {},
   "outputs": [],
   "source": [
    "def get_folds(train):\n",
    "    # months = ['01', '03', '06', '09', '12']\n",
    "    months = ['01', '03']\n",
    "    \n",
    "    folds = []\n",
    "    for i_fold in range(len(months) - 1):\n",
    "        tstart = pd.Timestamp('2018-' + months[i_fold] + '-01')\n",
    "        tend = pd.Timestamp('2018-' + months[i_fold + 1] + '-01')\n",
    "\n",
    "        tt = train.datetime\n",
    "        ids_val = ((tstart <=  tt) & (tt < tend)).to_numpy().nonzero()[0]\n",
    "        folds.append(ids_val)\n",
    "    \n",
    "    return folds\n",
    "        \n",
    "    \n",
    "folds = get_folds(train_full)"
   ]
  },
  {
   "cell_type": "code",
   "execution_count": null,
   "metadata": {
    "scrolled": false
   },
   "outputs": [],
   "source": [
    "probas_arr, ths, val_scores = fu.fit_predict_cv(\n",
    "    train=train_full, test=test, val_ids=folds,\n",
    "    cat_cols=cat_cols, cont_cols=cont_cols, draw_plot=False\n",
    ")"
   ]
  },
  {
   "cell_type": "code",
   "execution_count": null,
   "metadata": {},
   "outputs": [],
   "source": [
    "0.06964964119881807\n",
    "0.08447399296050058 no weights"
   ]
  },
  {
   "cell_type": "code",
   "execution_count": null,
   "metadata": {},
   "outputs": [],
   "source": [
    "probas = predictions_arr.mean(axis=0)"
   ]
  },
  {
   "cell_type": "code",
   "execution_count": null,
   "metadata": {},
   "outputs": [],
   "source": [
    "u.estimate(learn, validation_pool=None, y_true=train_full.y[ids_val],\n",
    "           th_start=0, th_stop=1, steps=20)"
   ]
  }
 ],
 "metadata": {
  "kernelspec": {
   "display_name": "Python 3",
   "language": "python",
   "name": "python3"
  },
  "language_info": {
   "codemirror_mode": {
    "name": "ipython",
    "version": 3
   },
   "file_extension": ".py",
   "mimetype": "text/x-python",
   "name": "python",
   "nbconvert_exporter": "python",
   "pygments_lexer": "ipython3",
   "version": "3.7.2"
  }
 },
 "nbformat": 4,
 "nbformat_minor": 2
}
