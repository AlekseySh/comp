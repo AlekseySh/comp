{
 "cells": [
  {
   "cell_type": "code",
   "execution_count": null,
   "metadata": {},
   "outputs": [],
   "source": [
    "%load_ext autoreload\n",
    "%autoreload 2\n",
    "\n",
    "import sys\n",
    "from pathlib import Path\n",
    "sys.path.append(\"..\")\n",
    "\n",
    "from fastai.tabular import FillMissing, Categorify, Normalize, TabularList, tabular_learner\n",
    "from fastai.callbacks.tracker import EarlyStoppingCallback, SaveModelCallback\n",
    "from fastai.basic_data import DatasetType\n",
    "from torch.nn import CrossEntropyLoss as CEloss\n",
    "import pandas as pd\n",
    "import numpy as np\n",
    "from matplotlib import pyplot as plt\n",
    "from tqdm.auto import tqdm\n",
    "\n",
    "import src.train_utils as u\n",
    "\n",
    "pd.set_option('display.max_columns', 999)\n",
    "pd.set_option('display.max_rows', 100)\n",
    "\n",
    "u.random_seed(42)"
   ]
  },
  {
   "cell_type": "markdown",
   "metadata": {},
   "source": [
    "# Load data"
   ]
  },
  {
   "cell_type": "code",
   "execution_count": null,
   "metadata": {},
   "outputs": [],
   "source": [
    "train_path = '../data/train_1002.pkl'\n",
    "test_path = '../data/test_1002.pkl'\n",
    "\n",
    "train_full, test, all_cols, cont_cols, cat_cols = u.read_data(\n",
    "    train_path=train_path, test_path=test_path)"
   ]
  },
  {
   "cell_type": "code",
   "execution_count": null,
   "metadata": {},
   "outputs": [],
   "source": [
    "data_bunch = u.create_fai_databunch(train=train_full, test=test,\n",
    "                                    cat_cols=cat_cols, cont_cols=cont_cols)"
   ]
  },
  {
   "cell_type": "markdown",
   "metadata": {},
   "source": [
    "## Model training"
   ]
  },
  {
   "cell_type": "code",
   "execution_count": null,
   "metadata": {
    "scrolled": false
   },
   "outputs": [],
   "source": [
    "n_attempts = 4\n",
    "\n",
    "best_learn, best_score = None, 0\n",
    "\n",
    "for i in tqdm(range(n_attempts)):\n",
    "    learn = u.train_fai_model(data=data_bunch)\n",
    "    _, score = u.estimate(learn)\n",
    "    \n",
    "    if score > best_score:\n",
    "        best_learn = learn\n",
    "        best_score = score\n",
    "        del learn\n",
    "\n",
    "\n",
    "best_learn.save(f'best_model_')"
   ]
  },
  {
   "cell_type": "markdown",
   "metadata": {},
   "source": [
    "# Submit"
   ]
  },
  {
   "cell_type": "code",
   "execution_count": null,
   "metadata": {},
   "outputs": [],
   "source": [
    "probas_test, *_ = best_learn.get_preds(DatasetType.Test)\n",
    "probas_test = probas_test[:, 1]\n",
    "\n",
    "n_pred = 8118\n",
    "pred_test = np.zeros(len(test), bool)\n",
    "pred_test[np.argsort(-1 * probas_test)[:8118]] = True\n",
    "\n",
    "\n",
    "print(f'Predicted events: {pred_test}')"
   ]
  },
  {
   "cell_type": "code",
   "execution_count": null,
   "metadata": {},
   "outputs": [],
   "source": [
    "submit = pd.DataFrame(\n",
    "    data={'datetime x segment_id': test['datetime x segment_id'].values,\n",
    "          'prediction': pred_test.astype(int)}\n",
    ")\n",
    "submit.to_csv(f'../results/submit_fai_{n_pred}.csv', index=False)"
   ]
  }
 ],
 "metadata": {
  "kernelspec": {
   "display_name": "Python 3",
   "language": "python",
   "name": "python3"
  },
  "language_info": {
   "codemirror_mode": {
    "name": "ipython",
    "version": 3
   },
   "file_extension": ".py",
   "mimetype": "text/x-python",
   "name": "python",
   "nbconvert_exporter": "python",
   "pygments_lexer": "ipython3",
   "version": "3.7.2"
  }
 },
 "nbformat": 4,
 "nbformat_minor": 2
}
