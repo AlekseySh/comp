{
 "cells": [
  {
   "cell_type": "code",
   "execution_count": null,
   "metadata": {},
   "outputs": [],
   "source": [
    "# !! pip install fastai"
   ]
  },
  {
   "cell_type": "code",
   "execution_count": null,
   "metadata": {},
   "outputs": [],
   "source": [
    "# ones = u.read_ones(data_path / 'train.csv')\n",
    "# u.add_more_time(ones)\n",
    "# ones = ones.rename(columns={'sid': 'segment_id', 'day': 'weekday'})\n",
    "\n",
    "# vehinj = u.read_vehinj(Path('../data/SANRAL_v2'))\n",
    "\n",
    "# x_cols = cols\n",
    "# x_cols.extend([c for c in train.columns if c.startswith('hist_')])\n",
    "\n",
    "# train = u.select_by_time(train_full, '2016-01-01', val_tstart, time_col='datetime')\n",
    "# val = u.select_by_time(train_full, val_tstart, '2019-01-01', time_col='datetime')\n",
    "\n",
    "# def prepare(df):\n",
    "#     df[cat_cols] = df[cat_cols].replace(np.nan, 'NAN').astype('object')\n",
    "#     df[cat_cols] = df[cat_cols].astype('str')\n",
    "    \n",
    "\n",
    "# prepare(train_full)\n",
    "# prepare(test)\n",
    "\n",
    "# val = train_full.loc[ids_val]\n",
    "# val.reset_index(inplace=True)\n",
    "\n",
    "# u.run_many_th_experiment(val, np.array(predictions), th_score=0.12)\n",
    "\n",
    "# train_full = train_full[train_full.datetime < pd.Timestamp('2018-04-01')]  # Only for fast debug\n",
    "# train_full.reset_index(inplace=True)\n"
   ]
  },
  {
   "cell_type": "code",
   "execution_count": 1,
   "metadata": {},
   "outputs": [],
   "source": [
    "%load_ext autoreload\n",
    "%autoreload 2\n",
    "\n",
    "import sys\n",
    "sys.path.append(\"..\")\n",
    "\n",
    "import pandas as pd\n",
    "import numpy as np \n",
    "from matplotlib import pyplot as plt\n",
    "\n",
    "from sklearn.model_selection import train_test_split\n",
    "from sklearn.metrics import f1_score\n",
    "from fastai.tabular import *\n",
    "from fastai.callbacks.tracker import EarlyStoppingCallback, SaveModelCallback\n",
    "from pathlib import Path\n",
    "import src.data_utils as u\n",
    "import src.fai_utils as fu\n",
    "from tqdm.auto import tqdm\n",
    "from collections import Counter\n",
    "from sklearn.metrics import f1_score, precision_score, recall_score\n",
    "from torch.nn import CrossEntropyLoss as CEloss\n",
    "\n",
    "pd.set_option('display.max_columns', 999)\n",
    "pd.set_option('display.max_rows', 100)\n",
    "\n",
    "u.random_seed(42)\n",
    "\n",
    "data_path = Path('../data')"
   ]
  },
  {
   "cell_type": "code",
   "execution_count": 2,
   "metadata": {},
   "outputs": [],
   "source": [
    "train_full, test, all_cols, cont_cols, cat_cols = u.read_data(data_path)"
   ]
  },
  {
   "cell_type": "code",
   "execution_count": 3,
   "metadata": {},
   "outputs": [],
   "source": [
    "for f in cont_cols:\n",
    "    test[f] = test[f].fillna(0)\n",
    "    train_full[f] = train_full[f].fillna(0)"
   ]
  },
  {
   "cell_type": "markdown",
   "metadata": {},
   "source": [
    "# Fast ai"
   ]
  },
  {
   "cell_type": "markdown",
   "metadata": {},
   "source": [
    "# 1 FOLD VALID"
   ]
  },
  {
   "cell_type": "code",
   "execution_count": 4,
   "metadata": {},
   "outputs": [
    {
     "name": "stdout",
     "output_type": "stream",
     "text": [
      "Time data was added.\n",
      "Statistic appending:\n"
     ]
    },
    {
     "data": {
      "application/vnd.jupyter.widget-view+json": {
       "model_id": "8cb517ca65834ff8a7ff9ef3b58005d2",
       "version_major": 2,
       "version_minor": 0
      },
      "text/plain": [
       "HBox(children=(IntProgress(value=0, max=8103668), HTML(value='')))"
      ]
     },
     "metadata": {},
     "output_type": "display_data"
    },
    {
     "name": "stdout",
     "output_type": "stream",
     "text": [
      "\n",
      "Statistic data was added added.\n",
      "Statistic appending:\n"
     ]
    },
    {
     "data": {
      "application/vnd.jupyter.widget-view+json": {
       "model_id": "2abd5850884a4624924892d43ade53d1",
       "version_major": 2,
       "version_minor": 0
      },
      "text/plain": [
       "HBox(children=(IntProgress(value=0, max=1201152), HTML(value='')))"
      ]
     },
     "metadata": {},
     "output_type": "display_data"
    },
    {
     "name": "stdout",
     "output_type": "stream",
     "text": [
      "\n",
      "Statistic data was added added.\n",
      "Statistic appending:\n"
     ]
    },
    {
     "data": {
      "application/vnd.jupyter.widget-view+json": {
       "model_id": "891437d07d6f48b9848b58ff04cbfb0d",
       "version_major": 2,
       "version_minor": 0
      },
      "text/plain": [
       "HBox(children=(IntProgress(value=0, max=1174496), HTML(value='')))"
      ]
     },
     "metadata": {},
     "output_type": "display_data"
    },
    {
     "name": "stdout",
     "output_type": "stream",
     "text": [
      "\n",
      "Statistic data was added added.\n"
     ]
    }
   ],
   "source": [
    "field_combs = [\n",
    "    tuple([('segment_id')]), tuple(['hour']), tuple(['weekday']), tuple(['month']),\n",
    "    ('segment_id', 'hour'), ('segment_id', 'weekday'), ('segment_id', 'month'), ('weekday', 'month'), ('hour', 'weekday'),\n",
    "    ('segment_id', 'weekday', 'hour'), ('segment_id', 'weekday', 'month')\n",
    "]\n",
    "\n",
    "ones = u.read_ones('../data/train.csv')\n",
    "ones['segment_id'] = ones['sid']\n",
    "u.add_more_time(ones)\n",
    "\n",
    "train = u.select_by_time(train_full, '2017-01-01', '2018-10-01', 'datetime')\n",
    "u.add_statistic(data=train, stat_data=ones,\n",
    "                field_combs=field_combs, prefix='hist_',\n",
    "                tstart='2016-01-01', tend='2017-01-01',\n",
    "               )\n",
    "\n",
    "val = u.select_by_time(train_full, '2018-10-01', '2019-01-01', 'datetime')\n",
    "u.add_statistic(data=val, stat_data=ones,\n",
    "                field_combs=field_combs, prefix='hist_',\n",
    "                tstart='2016-01-01', tend='2018-10-01',\n",
    "               )\n",
    "\n",
    "u.add_statistic(data=test, stat_data=ones,\n",
    "                field_combs=field_combs, prefix='hist_',\n",
    "                tstart='2016-01-01', tend='2019-01-01',\n",
    "               )\n",
    "\n",
    "\n",
    "hist_cols = list(filter(lambda x: x.startswith('hist_'), train.columns.values))\n",
    "\n",
    "all_cols += hist_cols\n",
    "cont_cols += hist_cols"
   ]
  },
  {
   "cell_type": "code",
   "execution_count": 5,
   "metadata": {},
   "outputs": [],
   "source": [
    "train_full = pd.concat([train, val])"
   ]
  },
  {
   "cell_type": "code",
   "execution_count": 6,
   "metadata": {},
   "outputs": [],
   "source": [
    "val_ids = (train_full.datetime >= pd.Timestamp('2018-10-01')).values"
   ]
  },
  {
   "cell_type": "code",
   "execution_count": 7,
   "metadata": {},
   "outputs": [],
   "source": [
    "procs = [FillMissing, Categorify, Normalize]\n",
    "\n",
    "test_tab = TabularList.from_df(df=test, cat_names=cat_cols, cont_names=cont_cols)"
   ]
  },
  {
   "cell_type": "code",
   "execution_count": 8,
   "metadata": {},
   "outputs": [],
   "source": [
    "p = {\n",
    "    'bs': 200_000,\n",
    "    'n_epochs': 20,\n",
    "    'layers': [512, 256, 128],\n",
    "    'weights': [1, 10],\n",
    "    'n_steps_f1': 20,\n",
    "    'emb_drop': 0.5\n",
    "}"
   ]
  },
  {
   "cell_type": "code",
   "execution_count": 9,
   "metadata": {},
   "outputs": [],
   "source": [
    "data = (TabularList.from_df(\n",
    "            train_full, procs=procs, cat_names=cat_cols, cont_names=cont_cols)\n",
    "                 .split_by_idx(val_ids)\n",
    "                 .label_from_df(cols='y')\n",
    "                 .add_test(test_tab)\n",
    "                 .databunch(bs=p['bs']))"
   ]
  },
  {
   "cell_type": "code",
   "execution_count": 10,
   "metadata": {},
   "outputs": [
    {
     "name": "stdout",
     "output_type": "stream",
     "text": [
      "../results/fai/\n"
     ]
    }
   ],
   "source": [
    "work_dir = '../results/fai/'\n",
    "Path(work_dir).mkdir(exist_ok=True, parents=True)\n",
    "print(work_dir)\n",
    "    \n",
    "with open(Path(work_dir) / 'parameters.json', 'w') as f:\n",
    "    json.dump(p, f)\n",
    "        \n",
    "learn = tabular_learner(data, path=work_dir, layers=p['layers'],\n",
    "                                emb_drop=p['emb_drop'],\n",
    "                                metrics=u.F1(0, 1, steps=p['n_steps_f1']),\n",
    "                                callback_fns=[ShowGraph,\n",
    "                                              partial(EarlyStoppingCallback,\n",
    "                                                      monitor='f1',\n",
    "                                                      min_delta=0.001,\n",
    "                                                      patience=7)\n",
    "                                              ],\n",
    "                                loss_func=CEloss(\n",
    "                                    weight=tensor(p['weights']).float().cuda()\n",
    "                                ),\n",
    "                                opt_func=torch.optim.Adam\n",
    "                                )"
   ]
  },
  {
   "cell_type": "code",
   "execution_count": 11,
   "metadata": {},
   "outputs": [
    {
     "data": {
      "text/html": [
       "\n",
       "    <div>\n",
       "        <style>\n",
       "            /* Turns off some styling */\n",
       "            progress {\n",
       "                /* gets rid of default border in Firefox and Opera. */\n",
       "                border: none;\n",
       "                /* Needs to be in here for Safari polyfill so background images work as expected. */\n",
       "                background-size: auto;\n",
       "            }\n",
       "            .progress-bar-interrupted, .progress-bar-interrupted::-webkit-progress-bar {\n",
       "                background: #F44336;\n",
       "            }\n",
       "        </style>\n",
       "      <progress value='1' class='' max='3', style='width:300px; height:20px; vertical-align: middle;'></progress>\n",
       "      33.33% [1/3 01:30<03:01]\n",
       "    </div>\n",
       "    \n",
       "<table border=\"1\" class=\"dataframe\">\n",
       "  <thead>\n",
       "    <tr style=\"text-align: left;\">\n",
       "      <th>epoch</th>\n",
       "      <th>train_loss</th>\n",
       "      <th>valid_loss</th>\n",
       "      <th>f1</th>\n",
       "      <th>time</th>\n",
       "    </tr>\n",
       "  </thead>\n",
       "  <tbody>\n",
       "    <tr>\n",
       "      <td>0</td>\n",
       "      <td>0.752006</td>\n",
       "      <td>#na#</td>\n",
       "      <td>01:30</td>\n",
       "    </tr>\n",
       "  </tbody>\n",
       "</table><p>\n",
       "\n",
       "    <div>\n",
       "        <style>\n",
       "            /* Turns off some styling */\n",
       "            progress {\n",
       "                /* gets rid of default border in Firefox and Opera. */\n",
       "                border: none;\n",
       "                /* Needs to be in here for Safari polyfill so background images work as expected. */\n",
       "                background-size: auto;\n",
       "            }\n",
       "            .progress-bar-interrupted, .progress-bar-interrupted::-webkit-progress-bar {\n",
       "                background: #F44336;\n",
       "            }\n",
       "        </style>\n",
       "      <progress value='43' class='' max='46', style='width:300px; height:20px; vertical-align: middle;'></progress>\n",
       "      93.48% [43/46 01:24<00:05 1.1302]\n",
       "    </div>\n",
       "    "
      ],
      "text/plain": [
       "<IPython.core.display.HTML object>"
      ]
     },
     "metadata": {},
     "output_type": "display_data"
    },
    {
     "name": "stdout",
     "output_type": "stream",
     "text": [
      "LR Finder is complete, type {learner_name}.recorder.plot() to see the graph.\n"
     ]
    },
    {
     "data": {
      "image/png": "[encoded data removed]",
      "text/plain": [
       "<Figure size 432x288 with 1 Axes>"
      ]
     },
     "metadata": {
      "needs_background": "light"
     },
     "output_type": "display_data"
    }
   ],
   "source": [
    "learn.lr_find()\n",
    "learn.recorder.plot()"
   ]
  },
  {
   "cell_type": "code",
   "execution_count": 12,
   "metadata": {},
   "outputs": [
    {
     "data": {
      "text/html": [
       "<table border=\"1\" class=\"dataframe\">\n",
       "  <thead>\n",
       "    <tr style=\"text-align: left;\">\n",
       "      <th>epoch</th>\n",
       "      <th>train_loss</th>\n",
       "      <th>valid_loss</th>\n",
       "      <th>f1</th>\n",
       "      <th>time</th>\n",
       "    </tr>\n",
       "  </thead>\n",
       "  <tbody>\n",
       "    <tr>\n",
       "      <td>0</td>\n",
       "      <td>0.707606</td>\n",
       "      <td>0.669284</td>\n",
       "      <td>0.101315</td>\n",
       "      <td>01:41</td>\n",
       "    </tr>\n",
       "    <tr>\n",
       "      <td>1</td>\n",
       "      <td>0.539742</td>\n",
       "      <td>0.288154</td>\n",
       "      <td>0.123976</td>\n",
       "      <td>01:42</td>\n",
       "    </tr>\n",
       "    <tr>\n",
       "      <td>2</td>\n",
       "      <td>0.280143</td>\n",
       "      <td>0.157103</td>\n",
       "      <td>0.124641</td>\n",
       "      <td>01:44</td>\n",
       "    </tr>\n",
       "    <tr>\n",
       "      <td>3</td>\n",
       "      <td>0.175907</td>\n",
       "      <td>0.157769</td>\n",
       "      <td>0.129654</td>\n",
       "      <td>01:47</td>\n",
       "    </tr>\n",
       "    <tr>\n",
       "      <td>4</td>\n",
       "      <td>0.135578</td>\n",
       "      <td>0.153718</td>\n",
       "      <td>0.131949</td>\n",
       "      <td>01:43</td>\n",
       "    </tr>\n",
       "    <tr>\n",
       "      <td>5</td>\n",
       "      <td>0.119182</td>\n",
       "      <td>0.149220</td>\n",
       "      <td>0.138936</td>\n",
       "      <td>01:42</td>\n",
       "    </tr>\n",
       "    <tr>\n",
       "      <td>6</td>\n",
       "      <td>0.111916</td>\n",
       "      <td>0.146505</td>\n",
       "      <td>0.142241</td>\n",
       "      <td>01:45</td>\n",
       "    </tr>\n",
       "    <tr>\n",
       "      <td>7</td>\n",
       "      <td>0.108202</td>\n",
       "      <td>0.144443</td>\n",
       "      <td>0.148910</td>\n",
       "      <td>01:41</td>\n",
       "    </tr>\n",
       "    <tr>\n",
       "      <td>8</td>\n",
       "      <td>0.106254</td>\n",
       "      <td>0.142620</td>\n",
       "      <td>0.149773</td>\n",
       "      <td>01:44</td>\n",
       "    </tr>\n",
       "    <tr>\n",
       "      <td>9</td>\n",
       "      <td>0.104451</td>\n",
       "      <td>0.139947</td>\n",
       "      <td>0.151768</td>\n",
       "      <td>01:45</td>\n",
       "    </tr>\n",
       "    <tr>\n",
       "      <td>10</td>\n",
       "      <td>0.102820</td>\n",
       "      <td>0.137425</td>\n",
       "      <td>0.158594</td>\n",
       "      <td>01:47</td>\n",
       "    </tr>\n",
       "    <tr>\n",
       "      <td>11</td>\n",
       "      <td>0.101185</td>\n",
       "      <td>0.134418</td>\n",
       "      <td>0.166725</td>\n",
       "      <td>01:45</td>\n",
       "    </tr>\n",
       "    <tr>\n",
       "      <td>12</td>\n",
       "      <td>0.099562</td>\n",
       "      <td>0.132015</td>\n",
       "      <td>0.166776</td>\n",
       "      <td>01:43</td>\n",
       "    </tr>\n",
       "    <tr>\n",
       "      <td>13</td>\n",
       "      <td>0.097550</td>\n",
       "      <td>0.128262</td>\n",
       "      <td>0.180590</td>\n",
       "      <td>01:43</td>\n",
       "    </tr>\n",
       "    <tr>\n",
       "      <td>14</td>\n",
       "      <td>0.095251</td>\n",
       "      <td>0.126351</td>\n",
       "      <td>0.190588</td>\n",
       "      <td>01:43</td>\n",
       "    </tr>\n",
       "    <tr>\n",
       "      <td>15</td>\n",
       "      <td>0.093005</td>\n",
       "      <td>0.121247</td>\n",
       "      <td>0.196842</td>\n",
       "      <td>01:47</td>\n",
       "    </tr>\n",
       "    <tr>\n",
       "      <td>16</td>\n",
       "      <td>0.090622</td>\n",
       "      <td>0.118573</td>\n",
       "      <td>0.206681</td>\n",
       "      <td>01:46</td>\n",
       "    </tr>\n",
       "    <tr>\n",
       "      <td>17</td>\n",
       "      <td>0.088580</td>\n",
       "      <td>0.116426</td>\n",
       "      <td>0.217916</td>\n",
       "      <td>01:43</td>\n",
       "    </tr>\n",
       "    <tr>\n",
       "      <td>18</td>\n",
       "      <td>0.086908</td>\n",
       "      <td>0.115347</td>\n",
       "      <td>0.219514</td>\n",
       "      <td>01:46</td>\n",
       "    </tr>\n",
       "    <tr>\n",
       "      <td>19</td>\n",
       "      <td>0.085857</td>\n",
       "      <td>0.115188</td>\n",
       "      <td>0.219519</td>\n",
       "      <td>01:43</td>\n",
       "    </tr>\n",
       "  </tbody>\n",
       "</table>"
      ],
      "text/plain": [
       "<IPython.core.display.HTML object>"
      ]
     },
     "metadata": {},
     "output_type": "display_data"
    },
    {
     "name": "stderr",
     "output_type": "stream",
     "text": [
      "/home/AlekseySh/miniconda3/envs/neuro/lib/python3.7/site-packages/sklearn/metrics/classification.py:1437: UndefinedMetricWarning: F-score is ill-defined and being set to 0.0 due to no predicted samples.\n",
      "  'precision', 'predicted', average, warn_for)\n"
     ]
    },
    {
     "data": {
      "image/png": "[encoded data removed]",
      "text/plain": [
       "<Figure size 432x288 with 1 Axes>"
      ]
     },
     "metadata": {},
     "output_type": "display_data"
    },
    {
     "name": "stdout",
     "output_type": "stream",
     "text": [
      "Better model found at epoch 0 with f1 value: 0.10131474516028849.\n",
      "Better model found at epoch 1 with f1 value: 0.12397614835200838.\n",
      "Better model found at epoch 2 with f1 value: 0.12464088397790055.\n",
      "Better model found at epoch 3 with f1 value: 0.129653639562882.\n",
      "Better model found at epoch 4 with f1 value: 0.13194949428174785.\n",
      "Better model found at epoch 5 with f1 value: 0.13893591293833132.\n",
      "Better model found at epoch 6 with f1 value: 0.14224108426312546.\n",
      "Better model found at epoch 7 with f1 value: 0.14891011511143767.\n",
      "Better model found at epoch 8 with f1 value: 0.14977279612238717.\n",
      "Better model found at epoch 9 with f1 value: 0.15176797775129125.\n",
      "Better model found at epoch 10 with f1 value: 0.15859351318581388.\n",
      "Better model found at epoch 11 with f1 value: 0.16672543902955075.\n",
      "Better model found at epoch 12 with f1 value: 0.1667757417102967.\n",
      "Better model found at epoch 13 with f1 value: 0.1805903916650588.\n",
      "Better model found at epoch 14 with f1 value: 0.19058823529411764.\n",
      "Better model found at epoch 15 with f1 value: 0.1968420395681208.\n",
      "Better model found at epoch 16 with f1 value: 0.20668086239020494.\n",
      "Better model found at epoch 17 with f1 value: 0.21791621393215016.\n",
      "Better model found at epoch 18 with f1 value: 0.21951359742425117.\n",
      "Better model found at epoch 19 with f1 value: 0.21951882560826422.\n"
     ]
    },
    {
     "data": {
      "image/png": "[encoded data removed]",
      "text/plain": [
       "<Figure size 432x288 with 1 Axes>"
      ]
     },
     "metadata": {
      "needs_background": "light"
     },
     "output_type": "display_data"
    },
    {
     "data": {
      "image/png": "[encoded data removed]",
      "text/plain": [
       "<Figure size 432x288 with 1 Axes>"
      ]
     },
     "metadata": {
      "needs_background": "light"
     },
     "output_type": "display_data"
    }
   ],
   "source": [
    "learn.fit_one_cycle(p['n_epochs'], max_lr=slice(5e-3),\n",
    "                    callbacks=[\n",
    "                        SaveModelCallback(learn, every='improvement',\n",
    "                                          monitor='f1', name='best')])\n",
    "                        \n",
    "learn.recorder.plot_losses()                        \n",
    "learn.recorder.plot_lr()\n",
    "plt.show()"
   ]
  },
  {
   "cell_type": "markdown",
   "metadata": {},
   "source": [
    "# Cross VALID"
   ]
  },
  {
   "cell_type": "code",
   "execution_count": 14,
   "metadata": {},
   "outputs": [],
   "source": [
    "probas_val = probas_val[:, 1]"
   ]
  },
  {
   "cell_type": "code",
   "execution_count": null,
   "metadata": {},
   "outputs": [],
   "source": [
    "def get_folds(train):\n",
    "    # months = ['01', '03', '06', '09', '12']\n",
    "    months = ['09', '12']\n",
    "    \n",
    "    folds = []\n",
    "    for i_fold in range(len(months) - 1):\n",
    "        tstart = pd.Timestamp('2018-' + months[i_fold] + '-01')\n",
    "        tend = pd.Timestamp('2018-' + months[i_fold + 1] + '-01')\n",
    "\n",
    "        tt = train.datetime\n",
    "        ids_val = ((tstart <=  tt) & (tt < tend)).to_numpy().nonzero()[0]\n",
    "        folds.append(ids_val)\n",
    "    \n",
    "    return folds\n",
    "        \n",
    "    \n",
    "folds = get_folds(train_full)"
   ]
  },
  {
   "cell_type": "raw",
   "metadata": {
    "scrolled": false
   },
   "source": [
    "probas_arr, ths, val_scores = fu.fit_predict_cv(\n",
    "    train=train_full, test=test, val_ids=folds,\n",
    "    cat_cols=cat_cols, cont_cols=cont_cols, draw_plot=False\n",
    ")"
   ]
  },
  {
   "cell_type": "markdown",
   "metadata": {},
   "source": [
    "# Submit"
   ]
  },
  {
   "cell_type": "code",
   "execution_count": 57,
   "metadata": {},
   "outputs": [
    {
     "data": {
      "text/html": [],
      "text/plain": [
       "<IPython.core.display.HTML object>"
      ]
     },
     "metadata": {},
     "output_type": "display_data"
    },
    {
     "data": {
      "text/html": [],
      "text/plain": [
       "<IPython.core.display.HTML object>"
      ]
     },
     "metadata": {},
     "output_type": "display_data"
    }
   ],
   "source": [
    "probas_val, *_ = learn.get_preds(DatasetType.Valid)\n",
    "probas_test, *_ = learn.get_preds(DatasetType.Test)\n",
    "\n",
    "probas_val = probas_val[:, 1]\n",
    "probas_test = probas_test[:, 1]"
   ]
  },
  {
   "cell_type": "code",
   "execution_count": 58,
   "metadata": {},
   "outputs": [
    {
     "data": {
      "text/html": [],
      "text/plain": [
       "<IPython.core.display.HTML object>"
      ]
     },
     "metadata": {},
     "output_type": "display_data"
    },
    {
     "data": {
      "application/vnd.jupyter.widget-view+json": {
       "model_id": "7e537e1ff66f43baa48a004f15a29179",
       "version_major": 2,
       "version_minor": 0
      },
      "text/plain": [
       "HBox(children=(IntProgress(value=0, max=20), HTML(value='')))"
      ]
     },
     "metadata": {},
     "output_type": "display_data"
    },
    {
     "name": "stderr",
     "output_type": "stream",
     "text": [
      "/home/AlekseySh/miniconda3/envs/neuro/lib/python3.7/site-packages/sklearn/metrics/classification.py:1437: UndefinedMetricWarning: F-score is ill-defined and being set to 0.0 due to no predicted samples.\n",
      "  'precision', 'predicted', average, warn_for)\n"
     ]
    },
    {
     "name": "stdout",
     "output_type": "stream",
     "text": [
      "\n",
      "f1 score  0.2195 \n",
      " recall 0.2383 \n",
      " precision 0.2035 \n",
      " th  0.5263 \n",
      " events  pred 7938 \n",
      " events true 6776\n"
     ]
    },
    {
     "data": {
      "image/png": "[encoded data removed]",
      "text/plain": [
       "<Figure size 432x288 with 1 Axes>"
      ]
     },
     "metadata": {
      "needs_background": "light"
     },
     "output_type": "display_data"
    }
   ],
   "source": [
    "th = u.estimate(learn, val, y_true=val.y)"
   ]
  },
  {
   "cell_type": "code",
   "execution_count": 65,
   "metadata": {},
   "outputs": [
    {
     "name": "stdout",
     "output_type": "stream",
     "text": [
      "9243\n"
     ]
    }
   ],
   "source": [
    "pred = np.array(probas_test) > th * .95\n",
    "\n",
    "n_pred = sum(pred)\n",
    "print(n_pred)"
   ]
  },
  {
   "cell_type": "code",
   "execution_count": 66,
   "metadata": {},
   "outputs": [],
   "source": [
    "submit = pd.DataFrame(\n",
    "    data={'datetime x segment_id': test['datetime x segment_id'].values,\n",
    "          'prediction': pred.astype(int)}\n",
    ")"
   ]
  },
  {
   "cell_type": "code",
   "execution_count": 67,
   "metadata": {},
   "outputs": [],
   "source": [
    "submit.to_csv(f'../results/submit_fai_{n_pred}.csv', index=False)"
   ]
  },
  {
   "cell_type": "code",
   "execution_count": null,
   "metadata": {},
   "outputs": [],
   "source": []
  }
 ],
 "metadata": {
  "kernelspec": {
   "display_name": "Python 3",
   "language": "python",
   "name": "python3"
  },
  "language_info": {
   "codemirror_mode": {
    "name": "ipython",
    "version": 3
   },
   "file_extension": ".py",
   "mimetype": "text/x-python",
   "name": "python",
   "nbconvert_exporter": "python",
   "pygments_lexer": "ipython3",
   "version": "3.7.2"
  }
 },
 "nbformat": 4,
 "nbformat_minor": 2
}
