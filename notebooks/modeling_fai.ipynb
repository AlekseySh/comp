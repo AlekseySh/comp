{
 "cells": [
  {
   "cell_type": "markdown",
   "metadata": {},
   "source": [
    "Please, note, that you have setup SEED before running this notebook to reproduce our results. So, the start command should look like this:\n",
    "\n",
    "**env PYTHONHASHSEED=42 jupyter notebook**"
   ]
  },
  {
   "cell_type": "code",
   "execution_count": null,
   "metadata": {},
   "outputs": [],
   "source": [
    "%load_ext autoreload\n",
    "%autoreload 2\n",
    "\n",
    "import sys\n",
    "from pathlib import Path\n",
    "sys.path.append(\"..\")\n",
    "\n",
    "from fastai.tabular import FillMissing, Categorify, Normalize, TabularList, tabular_learner\n",
    "from fastai.callbacks.tracker import EarlyStoppingCallback, SaveModelCallback\n",
    "from fastai.basic_data import DatasetType\n",
    "from torch.nn import CrossEntropyLoss as CEloss\n",
    "import pandas as pd\n",
    "import numpy as np\n",
    "from matplotlib import pyplot as plt\n",
    "from tqdm.auto import tqdm\n",
    "\n",
    "import src.train_utils as u\n",
    "from src import visualisation as v\n",
    "\n",
    "pd.set_option('display.max_columns', 999)\n",
    "pd.set_option('display.max_rows', 100)\n",
    "\n",
    "u.random_seed(42)"
   ]
  },
  {
   "cell_type": "markdown",
   "metadata": {},
   "source": [
    "# Load data"
   ]
  },
  {
   "cell_type": "code",
   "execution_count": null,
   "metadata": {},
   "outputs": [],
   "source": [
    "train_path = '../data/train_1002.pkl'\n",
    "test_path = '../data/test_1002.pkl'\n",
    "\n",
    "train_full, test, all_cols, cont_cols, cat_cols = u.read_data(\n",
    "    train_path=train_path, test_path=test_path)"
   ]
  },
  {
   "cell_type": "code",
   "execution_count": null,
   "metadata": {},
   "outputs": [],
   "source": [
    "val_start = '2018-10-01'\n",
    "\n",
    "data_bunch = u.create_fai_databunch(train=train_full, test=test,\n",
    "                                    cat_cols=cat_cols, cont_cols=cont_cols,\n",
    "                                   val_start=val_start)"
   ]
  },
  {
   "cell_type": "markdown",
   "metadata": {},
   "source": [
    "## Model training"
   ]
  },
  {
   "cell_type": "code",
   "execution_count": null,
   "metadata": {
    "scrolled": false
   },
   "outputs": [],
   "source": [
    "learn = u.train_fai_model(data=data_bunch)\n",
    "th, score = u.estimate(learn, th_start=0, th_stop=1, steps=51) # Score should be 0.121518\n",
    "\n",
    "learn.save(f'best_model_{round(score, 6)}')"
   ]
  },
  {
   "cell_type": "code",
   "execution_count": null,
   "metadata": {},
   "outputs": [],
   "source": [
    "# The trained model also available for downloading:\n",
    "# https://drive.google.com/file/d/1lvk2p2YeOYFW2Rqk4pRvmo8Fhq7iN14g/view?usp=sharing\n",
    "# learn.load('path/to/downloaded/model')"
   ]
  },
  {
   "cell_type": "markdown",
   "metadata": {},
   "source": [
    "# Predict visualisation"
   ]
  },
  {
   "cell_type": "code",
   "execution_count": null,
   "metadata": {},
   "outputs": [],
   "source": [
    "probas_val, *_ = learn.get_preds(DatasetType.Valid)\n",
    "probas_val = np.array(probas_val[:, 1])\n",
    "predict_val = probas_val > th\n"
   ]
  },
  {
   "cell_type": "code",
   "execution_count": null,
   "metadata": {},
   "outputs": [],
   "source": [
    "val = train_full[train_full.datetime >= pd.Timestamp(val_start)]\n",
    "val.reset_index(inplace=True, drop=True)\n",
    "\n",
    "val['event'] = predict_val\n",
    "val['time'] = val.datetime\n",
    "val['sid'] = val.segment_id\n",
    "val = val[val.event]\n",
    "v.add_more_time(val)\n",
    "\n",
    "val.reset_index(inplace=True, drop=True)"
   ]
  },
  {
   "cell_type": "code",
   "execution_count": null,
   "metadata": {},
   "outputs": [],
   "source": [
    "ones = v.read_ones('../data/train.csv')\n",
    "v.add_more_time(ones)"
   ]
  },
  {
   "cell_type": "code",
   "execution_count": null,
   "metadata": {},
   "outputs": [],
   "source": [
    "time = (val_start, '2018-11-30')\n",
    "sid = 'SE831U7'\n",
    "\n",
    "\n",
    "# pred\n",
    "v.plot_sid_events(ones, sid, *time)\n",
    "\n",
    "\n",
    "# gt\n",
    "v.plot_sid_events(val, sid, *time)"
   ]
  },
  {
   "cell_type": "markdown",
   "metadata": {},
   "source": [
    "# Submit"
   ]
  },
  {
   "cell_type": "code",
   "execution_count": null,
   "metadata": {},
   "outputs": [],
   "source": [
    "probas_test, *_ = learn.get_preds(DatasetType.Test)\n",
    "probas_test = np.array(probas_test[:, 1])"
   ]
  },
  {
   "cell_type": "code",
   "execution_count": null,
   "metadata": {},
   "outputs": [],
   "source": [
    "n_pred = 7500  # This submit will give you 0.124107710792282 on leaderbord (similar with qEbz8JUU)\n",
    "\n",
    "pred_test = np.zeros(len(test), bool)\n",
    "pred_test[np.argsort(-1 * probas_test)[:n_pred]] = True\n",
    "\n",
    "print(f'Predicted events: {sum(pred_test)}')"
   ]
  },
  {
   "cell_type": "code",
   "execution_count": null,
   "metadata": {},
   "outputs": [],
   "source": [
    "submit = pd.DataFrame(\n",
    "    data={'datetime x segment_id': test['datetime x segment_id'].values,\n",
    "          'prediction': pred_test.astype(int)}\n",
    ")\n",
    "submit.to_csv(f'../results/submit_fai_{sum(pred_test)}.csv', index=False)"
   ]
  }
 ],
 "metadata": {
  "kernelspec": {
   "display_name": "Python 3",
   "language": "python",
   "name": "python3"
  },
  "language_info": {
   "codemirror_mode": {
    "name": "ipython",
    "version": 3
   },
   "file_extension": ".py",
   "mimetype": "text/x-python",
   "name": "python",
   "nbconvert_exporter": "python",
   "pygments_lexer": "ipython3",
   "version": "3.7.2"
  }
 },
 "nbformat": 4,
 "nbformat_minor": 2
}
