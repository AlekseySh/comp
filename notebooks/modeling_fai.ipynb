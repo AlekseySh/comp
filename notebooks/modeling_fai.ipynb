{
 "cells": [
  {
   "cell_type": "code",
   "execution_count": null,
   "metadata": {},
   "outputs": [],
   "source": [
    "%load_ext autoreload\n",
    "%autoreload 2\n",
    "\n",
    "import sys\n",
    "from pathlib import Path\n",
    "sys.path.append(\"..\")\n",
    "\n",
    "from fastai.tabular import FillMissing, Categorify, Normalize, TabularList, tabular_learner\n",
    "from fastai.callbacks.tracker import EarlyStoppingCallback, SaveModelCallback\n",
    "from fastai.basic_data import DatasetType\n",
    "from torch.nn import CrossEntropyLoss as CEloss\n",
    "import pandas as pd\n",
    "import numpy as np\n",
    "from matplotlib import pyplot as plt\n",
    "from tqdm.auto import tqdm\n",
    "\n",
    "import src.train_utils as u\n",
    "\n",
    "pd.set_option('display.max_columns', 999)\n",
    "pd.set_option('display.max_rows', 100)\n",
    "\n",
    "u.random_seed(42)"
   ]
  },
  {
   "cell_type": "markdown",
   "metadata": {},
   "source": [
    "# Load data"
   ]
  },
  {
   "cell_type": "code",
   "execution_count": null,
   "metadata": {},
   "outputs": [],
   "source": [
    "train_path = '../data/train_1002.pkl'\n",
    "test_path = '../data/test_1002.pkl'\n",
    "\n",
    "train_full, test, all_cols, cont_cols, cat_cols = u.read_data(\n",
    "    train_path=train_path, test_path=test_path)"
   ]
  },
  {
   "cell_type": "code",
   "execution_count": null,
   "metadata": {},
   "outputs": [],
   "source": [
    "data_bunch = u.create_fai_databunch(train=train_full, test=test,\n",
    "                                    cat_cols=cat_cols, cont_cols=cont_cols)"
   ]
  },
  {
   "cell_type": "markdown",
   "metadata": {},
   "source": [
    "## Model training"
   ]
  },
  {
   "cell_type": "markdown",
   "metadata": {},
   "source": [
    "We managed to make solution 100% reproducible, but it didn’t survive kernel restart.\n",
    "We’ve tried all advices given on fastai\n",
    "[forum](https://forums.fast.ai/t/solved-reproducibility-where-is-the-randomness-coming-in/31628/5)\n",
    "and\n",
    "[docs](https://docs.fast.ai/dev/test.html#getting-reproducible-results), but unfortunately none of them helped.\n",
    "It seems that we cannot avoid this issue while training on gpu.\n",
    "\n",
    "So we decided to train models in cycle and choose the best one.\n",
    "To reproduce our score, we need a model that score roughly above 0.122 on validation data\n",
    "and set threshold for test data that results in predicting approx. 7000 - 8500 events.\n",
    "We managed to train such a model in several attempts, but it may a lot of time...\n"
   ]
  },
  {
   "cell_type": "code",
   "execution_count": null,
   "metadata": {
    "scrolled": false
   },
   "outputs": [],
   "source": [
    "n_attempts = 15\n",
    "\n",
    "best_learn, best_th, best_score = None, None, 0\n",
    "\n",
    "for i in tqdm(range(n_attempts)):\n",
    "    learn = u.train_fai_model(data=data_bunch)\n",
    "    th, score = u.estimate(learn, th_start=0, th_stop=1, steps=51)\n",
    "    plt.show()\n",
    "    \n",
    "    if score > best_score:\n",
    "        best_learn = learn\n",
    "        best_score = score\n",
    "        best_th = th\n",
    "        del learn\n",
    "        \n",
    "    if best_score > 12.15:\n",
    "        break\n",
    "\n",
    "\n",
    "best_learn.save(f'best_model_{round(best_score, 6)}')"
   ]
  },
  {
   "cell_type": "markdown",
   "metadata": {},
   "source": [
    "# Submit"
   ]
  },
  {
   "cell_type": "code",
   "execution_count": null,
   "metadata": {},
   "outputs": [],
   "source": [
    "probas_test, *_ = best_learn.get_preds(DatasetType.Test)\n",
    "probas_test = np.array(probas_test[:, 1])"
   ]
  },
  {
   "cell_type": "code",
   "execution_count": null,
   "metadata": {},
   "outputs": [],
   "source": [
    "n_pred = 7500\n",
    "pred_test = np.zeros(len(test), bool)\n",
    "pred_test[np.argsort(-1 * probas_test)[:n_pred]] = True\n",
    "\n",
    "# pred_test = probas_test > 0.58\n",
    "\n",
    "print(f'Predicted events: {sum(pred_test)}')"
   ]
  },
  {
   "cell_type": "code",
   "execution_count": null,
   "metadata": {},
   "outputs": [],
   "source": [
    "submit = pd.DataFrame(\n",
    "    data={'datetime x segment_id': test['datetime x segment_id'].values,\n",
    "          'prediction': pred_test.astype(int)}\n",
    ")\n",
    "submit.to_csv(f'../results/submit_fai_{sum(pred_test)}.csv', index=False)"
   ]
  }
 ],
 "metadata": {
  "kernelspec": {
   "display_name": "Python 3",
   "language": "python",
   "name": "python3"
  },
  "language_info": {
   "codemirror_mode": {
    "name": "ipython",
    "version": 3
   },
   "file_extension": ".py",
   "mimetype": "text/x-python",
   "name": "python",
   "nbconvert_exporter": "python",
   "pygments_lexer": "ipython3",
   "version": "3.7.2"
  }
 },
 "nbformat": 4,
 "nbformat_minor": 2
}
