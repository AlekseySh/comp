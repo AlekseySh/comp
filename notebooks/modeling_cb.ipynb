{
 "cells": [
  {
   "cell_type": "code",
   "execution_count": null,
   "metadata": {},
   "outputs": [],
   "source": [
    "%load_ext autoreload\n",
    "%autoreload 2\n",
    "\n",
    "import sys\n",
    "sys.path.append(\"..\")\n",
    "\n",
    "import catboost\n",
    "import pandas as pd\n",
    "import numpy as np \n",
    "from matplotlib import pyplot as plt\n",
    "\n",
    "from sklearn.model_selection import train_test_split\n",
    "from sklearn.metrics import f1_score\n",
    "from catboost import CatBoostClassifier, Pool, cv\n",
    "from pathlib import Path\n",
    "import src.utils as u\n",
    "import src.cb_utils as m\n",
    "from tqdm.auto import tqdm\n",
    "from collections import Counter\n",
    "from sklearn.metrics import f1_score, precision_score, recall_score\n",
    "\n",
    "pd.set_option('display.max_columns', 999)\n",
    "pd.set_option('display.max_rows', 100)\n",
    "\n",
    "u.random_seed(42)\n",
    "\n",
    "data_path = Path('../data')"
   ]
  },
  {
   "cell_type": "markdown",
   "metadata": {},
   "source": []
  },
  {
   "cell_type": "code",
   "execution_count": null,
   "metadata": {},
   "outputs": [],
   "source": [
    "data_path = Path('../data')\n",
    "\n",
    "train_full, test, all_cols, cont_cols, cat_cols = u.read_data(data_path)"
   ]
  },
  {
   "cell_type": "code",
   "execution_count": null,
   "metadata": {},
   "outputs": [],
   "source": [
    "train = u.select_by_time(train_full_high, '2016-10-01', '2018-10-01', 'datetime')\n",
    "val = u.select_by_time(train_full_high, '2018-10-01', '2019-01-01', 'datetime')\n",
    "\n",
    "train_pool = Pool(data=train[all_cols], label=train['y'], cat_features=cat_cols)\n",
    "val_pool =  Pool(data=val[all_cols], label=val['y'], cat_features=cat_cols)\n",
    "test_pool = Pool(data=test[all_cols], cat_features=cat_cols)"
   ]
  },
  {
   "cell_type": "code",
   "execution_count": null,
   "metadata": {},
   "outputs": [],
   "source": [
    "params = {\n",
    "    'iterations': 500,\n",
    "    'learning_rate': 0.1,\n",
    "    'scale_pos_weight': 5,\n",
    "    'has_time': True,\n",
    "    'one_hot_max_size': 1000,\n",
    "    'depth': 5,\n",
    "    \n",
    "    'loss_function': 'Logloss',\n",
    "    'task_type': 'CPU',\n",
    "    'use_best_model': True,\n",
    "    'eval_metric': m.FlexibleF1(0, 1, 20)\n",
    "}"
   ]
  },
  {
   "cell_type": "code",
   "execution_count": null,
   "metadata": {
    "scrolled": false
   },
   "outputs": [],
   "source": [
    "cls = CatBoostClassifier(**params)\n",
    "\n",
    "cls.fit(\n",
    "    train_pool,\n",
    "    eval_set=val_pool,\n",
    "    plot=True,\n",
    "    verbose=1,\n",
    "    early_stopping_rounds=40,\n",
    ")\n",
    "\n",
    "# cls.save_model('../results/cb_model.pt')"
   ]
  },
  {
   "cell_type": "code",
   "execution_count": null,
   "metadata": {},
   "outputs": [],
   "source": [
    "th = u.estimate(cls, val_pool, y_true=val_pool.get_label(), th_start=0, th_stop=1, steps=100)"
   ]
  },
  {
   "cell_type": "code",
   "execution_count": null,
   "metadata": {},
   "outputs": [],
   "source": [
    "proba_test = cls.predict_proba(test_pool)[:, 1]"
   ]
  },
  {
   "cell_type": "markdown",
   "metadata": {},
   "source": [
    "# Submit"
   ]
  },
  {
   "cell_type": "code",
   "execution_count": null,
   "metadata": {},
   "outputs": [],
   "source": [
    "pred = proba_test > 0.285\n",
    "\n",
    "n_pred = sum(pred)\n",
    "print(n_pred)"
   ]
  },
  {
   "cell_type": "code",
   "execution_count": null,
   "metadata": {},
   "outputs": [],
   "source": [
    "submit = pd.DataFrame(\n",
    "    data={'datetime x segment_id': test['datetime x segment_id'].values,\n",
    "          'prediction': pred.astype(int)}\n",
    ")\n",
    "submit.to_csv(f'../results/submit_cb_{n_pred}.csv', index=False)"
   ]
  }
 ],
 "metadata": {
  "kernelspec": {
   "display_name": "Python 3",
   "language": "python",
   "name": "python3"
  },
  "language_info": {
   "codemirror_mode": {
    "name": "ipython",
    "version": 3
   },
   "file_extension": ".py",
   "mimetype": "text/x-python",
   "name": "python",
   "nbconvert_exporter": "python",
   "pygments_lexer": "ipython3",
   "version": "3.7.3"
  }
 },
 "nbformat": 4,
 "nbformat_minor": 2
}
