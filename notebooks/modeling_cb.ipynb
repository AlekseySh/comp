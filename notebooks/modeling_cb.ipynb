{
 "cells": [
  {
   "cell_type": "code",
   "execution_count": null,
   "metadata": {},
   "outputs": [],
   "source": [
    "%load_ext autoreload\n",
    "%autoreload 2\n",
    "\n",
    "import sys\n",
    "sys.path.append(\"..\")\n",
    "\n",
    "import catboost\n",
    "import pandas as pd\n",
    "import numpy as np \n",
    "from matplotlib import pyplot as plt\n",
    "import src.train_utils as u \n",
    "from sklearn.metrics import f1_score\n",
    "from catboost import CatBoostClassifier, Pool\n",
    "from pathlib import Path\n",
    "from tqdm.auto import tqdm\n",
    "\n",
    "pd.set_option('display.max_columns', 999)\n",
    "pd.set_option('display.max_rows', 100)\n",
    "\n",
    "u.random_seed(42)"
   ]
  },
  {
   "cell_type": "code",
   "execution_count": null,
   "metadata": {},
   "outputs": [],
   "source": [
    "class FlexibleF1(object):\n",
    "    \n",
    "    def __init__(self,\n",
    "                 th_start: float = 0.0,\n",
    "                 th_stop: float = 1.0,\n",
    "                 steps: int = 20\n",
    "                 ):\n",
    "        self.th_grid = np.linspace(start=th_start,\n",
    "                                       stop=th_stop,\n",
    "                                       num=steps\n",
    "                                       )\n",
    "        self.train_call = False\n",
    "        \n",
    "    @staticmethod\n",
    "    def is_max_optimal() -> bool:\n",
    "        return True\n",
    "    \n",
    "    @staticmethod\n",
    "    def get_final_error(error, _):\n",
    "        return error\n",
    "    \n",
    "    def evaluate(self, approxes, target, _) -> float:\n",
    "        self.train_call = ~self.train_call\n",
    "        if self.train_call:\n",
    "            return 0, 1.0\n",
    "        else:\n",
    "            assert len(approxes) == 1\n",
    "            assert len(target) == len(approxes[0])\n",
    "            approx = np.array(approxes[0])\n",
    "            exps = np.exp(approx)\n",
    "            probs = exps / (1 + exps)\n",
    "            scores = [f1_score(y_pred=probs > th,\n",
    "                               y_true=np.array(target)\n",
    "                               )\n",
    "                      for th in self.th_grid]\n",
    "            score = max(scores)\n",
    "            return score, 1.0\n",
    "        \n",
    "        \n",
    "def select_by_time(df: pd.DataFrame,\n",
    "                   tstart: str,\n",
    "                   tend: str,\n",
    "                   time_col: str = 'time'\n",
    "                   ) -> pd.DataFrame:\n",
    "    df_select = df[(pd.Timestamp(tstart) <= df[time_col]) &\n",
    "                   (df[time_col] < pd.Timestamp(tend))]\n",
    "    df_select.reset_index(drop=True, inplace=True)\n",
    "    return df_select\n"
   ]
  },
  {
   "cell_type": "code",
   "execution_count": null,
   "metadata": {},
   "outputs": [],
   "source": [
    "train_path = '../data/train_1002.pkl'\n",
    "test_path = '../data/test_1002.pkl'\n",
    "\n",
    "train_full, test, all_cols, cont_cols, cat_cols = u.read_data(\n",
    "    train_path=train_path, test_path=test_path)"
   ]
  },
  {
   "cell_type": "code",
   "execution_count": null,
   "metadata": {},
   "outputs": [],
   "source": [
    "train = select_by_time(train_full, '2016-10-01', '2018-10-01', 'datetime')\n",
    "val = select_by_time(train_full, '2018-10-01', '2019-01-01', 'datetime')\n",
    "\n",
    "train_pool = Pool(data=train[all_cols], label=train['y'], cat_features=cat_cols)\n",
    "val_pool =  Pool(data=val[all_cols], label=val['y'], cat_features=cat_cols)\n",
    "test_pool = Pool(data=test[all_cols], cat_features=cat_cols)"
   ]
  },
  {
   "cell_type": "code",
   "execution_count": null,
   "metadata": {},
   "outputs": [],
   "source": [
    "params = {\n",
    "    'iterations': 500,\n",
    "    'learning_rate': 0.1,\n",
    "    'scale_pos_weight': 5,\n",
    "    'has_time': True,\n",
    "    'one_hot_max_size': 1000,\n",
    "    'depth': 5,\n",
    "    \n",
    "    'loss_function': 'Logloss',\n",
    "    'task_type': 'CPU',\n",
    "    'use_best_model': True,\n",
    "    'eval_metric': FlexibleF1(0, 1, 20)\n",
    "}"
   ]
  },
  {
   "cell_type": "code",
   "execution_count": null,
   "metadata": {
    "scrolled": false
   },
   "outputs": [],
   "source": [
    "cls = CatBoostClassifier(**params)\n",
    "\n",
    "cls.fit(\n",
    "    train_pool,\n",
    "    eval_set=val_pool,\n",
    "    plot=True,\n",
    "    verbose=1,\n",
    "    early_stopping_rounds=5,\n",
    ")\n",
    "\n",
    "# cls.save_model('../results/cb_model.pt')"
   ]
  },
  {
   "cell_type": "markdown",
   "metadata": {},
   "source": [
    "# Submit"
   ]
  },
  {
   "cell_type": "code",
   "execution_count": null,
   "metadata": {},
   "outputs": [],
   "source": [
    "proba_test = cls.predict_proba(test_pool)[:, 1]\n",
    "pred = proba_test > 0.285\n",
    "\n",
    "n_pred = sum(pred)\n",
    "print(n_pred)"
   ]
  },
  {
   "cell_type": "code",
   "execution_count": null,
   "metadata": {},
   "outputs": [],
   "source": [
    "submit = pd.DataFrame(\n",
    "    data={'datetime x segment_id': test['datetime x segment_id'].values,\n",
    "          'prediction': pred.astype(int)}\n",
    ")\n",
    "submit.to_csv(f'../results/submit_cb_{n_pred}.csv', index=False)"
   ]
  }
 ],
 "metadata": {
  "kernelspec": {
   "display_name": "Python 3",
   "language": "python",
   "name": "python3"
  },
  "language_info": {
   "codemirror_mode": {
    "name": "ipython",
    "version": 3
   },
   "file_extension": ".py",
   "mimetype": "text/x-python",
   "name": "python",
   "nbconvert_exporter": "python",
   "pygments_lexer": "ipython3",
   "version": "3.7.2"
  }
 },
 "nbformat": 4,
 "nbformat_minor": 2
}
